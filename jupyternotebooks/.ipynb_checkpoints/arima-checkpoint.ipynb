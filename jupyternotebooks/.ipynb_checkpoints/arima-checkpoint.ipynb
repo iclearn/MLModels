{
 "cells": [
  {
   "cell_type": "code",
   "execution_count": null,
   "metadata": {
    "collapsed": true
   },
   "outputs": [],
   "source": [
    "import pandas as pd\n",
    "\n",
    "\n",
    "date_parser = lambda x: pd.datetime.strptime('190' + x, '%Y-%m')\n",
    "time_series_data = pd.read_csv('./datasets/sales-of-shampoo.csv', parse_dates=['Month'], date_parser=date_parser, squeeze= True)"
   ]
  }
 ],
 "metadata": {
  "kernelspec": {
   "display_name": "Python 2",
   "language": "python",
   "name": "python2"
  },
  "language_info": {
   "codemirror_mode": {
    "name": "ipython",
    "version": 2
   },
   "file_extension": ".py",
   "mimetype": "text/x-python",
   "name": "python",
   "nbconvert_exporter": "python",
   "pygments_lexer": "ipython2",
   "version": "2.7.13"
  }
 },
 "nbformat": 4,
 "nbformat_minor": 1
}
